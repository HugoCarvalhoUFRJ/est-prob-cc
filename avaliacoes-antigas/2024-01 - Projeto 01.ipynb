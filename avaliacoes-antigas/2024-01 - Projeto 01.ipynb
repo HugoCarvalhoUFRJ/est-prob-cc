{
  "cells": [
    {
      "cell_type": "markdown",
      "metadata": {
        "id": "tKAcyAOyW8W0"
      },
      "source": [
        "# Estatística & Probabilidade - 2024/01\n",
        "\n",
        "## Projeto 01 - Calculando probabilidades com simulação estocástica\n",
        "\n",
        "### Hugo Tremonte de Carvalho\n",
        "\n",
        "#### hugo@dme.ufrj.br\n",
        "\n",
        "#### Google Classroom: `654q7wf`"
      ]
    },
    {
      "cell_type": "markdown",
      "metadata": {
        "id": "LsmMcxGPW8W1"
      },
      "source": [
        "# ⚠️ INSTRUÇÕES ⚠️ LEIAM ATENTAMENTE! ⚠️"
      ]
    },
    {
      "cell_type": "markdown",
      "metadata": {
        "id": "aSV-VmQvW8W2"
      },
      "source": [
        "* A data limite de entrega da avaliação é sábado 07/05/2024 às 23h59. Avaliações entregues após esse prazo serão desconsideradas.\n",
        "\n",
        "* A entrega deve ser feita exclusivamente através do Google Classroom, usando a linguagem Python dentro de um notebook do Google Colaboratory, exibindo os *outputs* de cada célula, a ser anexado na atividade da seguinte forma:\n",
        "  - Dentro da turma no Google Classroom, clique em \"Atividades\"\n",
        "            \n",
        "  - No tema \"Projetos\", clique em \"Projeto 01\" e em seguida em \"Ver atividade\"\n",
        "            \n",
        "  - No canto superior direito, clique em \"+ Adicionar ou criar\" e em seguida selecione em \"Arquivo\" ou \"Google Drive\", se optar fazer upload do notebook ou selecionar um arquivo de seu Google Drive, respectivamente.\n",
        "            \n",
        "  - O título do notebook deverá ser, obrigatoriamente, \"SEU NOME - Projeto 01\".\n",
        "            \n",
        "  - Para entregar o projeto, abra a atividade que o contém (conforme procedimento explicado no ponto acima), e no canto superior direito clique em \"ENTREGAR\" (o texto estará em uma caixa cinza, mas ele é clicável).\n",
        "            \n",
        "  - Na tela a seguir clique em \"Entregar\" para confirmar a entrega do trabalho.\n",
        "            \n",
        "  - Se você se arrependeu e quiser fazer outra entrega, basta abrir a atividade, no canto superior direito clique em \"Cancelar envio\" e confirme clicando novamente em \"Cancelar envio\" na janela que irá abrir. Você pode fazer isso quantas vezes quiser até o prazo determinado.\n",
        "            \n",
        "  - As explicações que você precisará fazer devem ser feitas em células de texto em seu notebook. Somente comentários pequenos devem ser feitos no código.\n",
        "            \n",
        "  - Caso seja necessário, equações podem ser introduzidas em $\\LaTeX$ nas células de texto.\n",
        "            \n",
        "  - Figuras também podem ser incluídas em células de texto, tanto através de upload quanto simplesmente arrastando-a para alguma célula de texto. Nesse caso, sempre informe a fonte de onde a figura foi retirada, caso não tenha sido gerada por você.\n",
        "\n",
        "* O projeto poderá ser feito **até** em dupla: quem quer fazer sozinho/a faz, mas quem quiser fazer em dupla também tem esse direito. Porém, vamos evitar problemas de \"eu fiz tudo e ele/a não fez nada\"! Infelizmente não tenho como controlar isso, e após o projeto entregue não adianta \"eu fiz tudo sozinho/a\", pois eu não estava lá para ver! Tentem se resolver entre si, mas em último caso posso auxiliar com uma mediação.\n",
        "\n",
        "* No caso de trabalho em dupla, apenas **uma** pessoa da dupla deverá fazer o envio do trabalho, claro, deixando explícito quem é o/a parceiro/a.\n",
        "\n",
        "* A troca de conhecimento na realização da avaliação é permitida e encorajada: ciência se faz com colaboração, e devemos seguir esse espírito aqui. Porém, cada dupla (ou indivíduo) deverá ter a sua própria resolução, e cópias ou outras ilegalidades serão severamente punidas com a anulação da avaliação para o(s) aluno(s) suspeito(s).\n",
        "\n",
        "* Todos os passos de sua resolução devem ser devidamente justificados.\n",
        "\n",
        "* Ao entregar essa avaliação, você afirma ter lido e estar de acordo com essas regras, comprometendo-se a cumpri-las."
      ]
    },
    {
      "cell_type": "markdown",
      "metadata": {
        "id": "DLypPchqnhoc"
      },
      "source": [
        "# O projeto"
      ]
    },
    {
      "cell_type": "markdown",
      "metadata": {
        "id": "FHI5n8V3nw19"
      },
      "source": [
        "O objetivo da atividade é que vocês calculem algumas probabilidades através de simulação estocástica, ou seja, através de um grande número de sorteios aleatórios devidamente projetados para calcular a probabilidade desejada. Algumas dessas probabilidades podem ser calculadas analiticamente com certa facilidade, mas em outros pode ser **bem** difícil (ou mesmo impossível). Dessa forma, o cálculo de probabilidades através de simulação estocástica pode ser tanto uma ferramenta fundamental para resolver algum problema ou para te dar alguma intuição, te guiando para o resultado analítico. Em alguns momentos vocês deverão justificar teoricamente os resultados obtidos, pois senão, não tem graça! 😁"
      ]
    },
    {
      "cell_type": "markdown",
      "metadata": {
        "id": "6jbjorsno16i"
      },
      "source": [
        "## Questão 1: Verificando um resultado pouco intuitivo"
      ]
    },
    {
      "cell_type": "markdown",
      "metadata": {
        "id": "nscY444bo5vb"
      },
      "source": [
        "No *slide* 38 de nosso material, resolvemos o seguinte problema, que tem um resultado pouco intuitivo:\n",
        " \n",
        "*Alguém rola dois dados honestos, sem que você veja. Você pergunta a esta pessoa se houve um seis entre os dois lançamentos e ela responde, honestamente, \"sim\". Qual é a probabilidade que os dois dados rolaram seis?*\n",
        "\n",
        "Utilizando geração de números aleatórios, faça uma simulação para estimar o valor dessa probabilidade e compare com o resultado obtido em sala de aula. Talvez você precise de \"muitas\" tentativas para ter uma boa estimativa. O quão grande você acha que \"muitas\" deve ser?"
      ]
    },
    {
      "cell_type": "markdown",
      "metadata": {
        "id": "dg13CC2doyfc"
      },
      "source": [
        "-- sua resolução aqui --"
      ]
    },
    {
      "cell_type": "markdown",
      "metadata": {
        "id": "LaL7ZvrFqrGd"
      },
      "source": [
        "## Questão 2: O problema de Monty Hall"
      ]
    },
    {
      "cell_type": "markdown",
      "metadata": {
        "id": "QOr2y6H6rASi"
      },
      "source": [
        "Em um famoso programa de televisão da década de 70 nos Estados Unidos, Monty Hall, o apresentador, apresentava três portas aos concorrentes. Atrás de uma delas estava um prêmio e, atrás das outras duas não havia nada. A interação se dava em três etapas:\n",
        "\n",
        "* Na 1a. etapa o concorrente escolhe uma das três portas (que ainda não é aberta);\n",
        "* Na 2a. etapa, Monty abre uma das outras duas portas que o concorrente não escolheu, revelando que o prêmio não se encontra nessa porta e revelando uma porta vazia (note que o apresentador **sempre** irá abrir uma porta que está vazia, e **nunca** a porta com o prêmio);\n",
        "* Na 3a. etapa Monty pergunta ao concorrente se quer decidir permanecer com a porta que escolheu no início do jogo ou se ele pretende mudar para a outra porta que ainda está fechada para então a abrir. Agora, com duas portas apenas para escolher — pois uma delas já se viu, na 2a. etapa, que não tinha o prêmio — e sabendo que o prêmio está atrás de uma das restantes duas, o concorrente tem que tomar a decisão.\n",
        "\n",
        "O objetivo dessa questão é estudar qual é a estratégia mais lógica: ficar com a porta escolhida inicialmente ou mudar de porta? Do ponto de vista probablístico, com qual das duas portas ainda fechadas o concorrente tem mais probabilidades de ganhar?"
      ]
    },
    {
      "cell_type": "markdown",
      "metadata": {
        "id": "RY65vLyfwNnN"
      },
      "source": [
        "a) Talvez você já saiba a resposta para esse problema, uma vez que ele é bem famoso, mas não tem problema! Faça simulações para encontrar qual é o melhor cenário para o participante: manter sua escolha inicial ou mudar de porta. Justifique, **intuitivamente** (ou seja, **sem fazer contas**) porque essa escolha é razoável."
      ]
    },
    {
      "cell_type": "markdown",
      "metadata": {
        "id": "ZLMuLgq3wrjJ"
      },
      "source": [
        "-- sua resolução aqui --"
      ]
    },
    {
      "cell_type": "markdown",
      "metadata": {
        "id": "i9P5y-aBw31c"
      },
      "source": [
        "b) Agora sim, justifique fazendo as contas a probabilidade encontrada no item a)."
      ]
    },
    {
      "cell_type": "markdown",
      "metadata": {
        "id": "3JCfE3SoxEz0"
      },
      "source": [
        "-- sua resolução aqui --"
      ]
    },
    {
      "cell_type": "markdown",
      "metadata": {
        "id": "O5OXB7gtxKCL"
      },
      "source": [
        "## Questão 3: Jogo da velha aleatório"
      ]
    },
    {
      "cell_type": "markdown",
      "metadata": {
        "id": "IvZ5zfcTxVYx"
      },
      "source": [
        "Agora, vamos tentar estimar uma probabilidade cujo cálculo analítico é bem mais complexo. Suponha que dois jogadores joguem jogo da velha porém com uma estratégia um pouco exótica: cada jogador escolhe a casa onde irá marcar $\\times$ ou $\\circ$ uniformemente dentre as casas vazias. Exemplificando, o primeiro jogador marca $\\times$ em uma das 9 casas com igual probabilidade; o segundo marca $\\circ$ em uma das 8 casas restantes com igual probabilidade; e assim sucessivamente até algum jogador ganhar (linha, coluna ou diagonal completa com $\\times$ ou $\\circ$) ou empatar (todas as células preenchidas porém sem nenhuma linha nem coluna nem diagonal completa com $\\times$ ou $\\circ$)."
      ]
    },
    {
      "cell_type": "markdown",
      "metadata": {
        "id": "psZKODw_zLMj"
      },
      "source": [
        "a) Encontre uma aproximação para a probabilidade do jogo **não** terminar em empate. Tente encontrar uma justificativa intuitiva para sua resposta."
      ]
    },
    {
      "cell_type": "markdown",
      "metadata": {
        "id": "VQSdGXm5zWH7"
      },
      "source": [
        "-- sua resolução aqui --"
      ]
    },
    {
      "cell_type": "markdown",
      "metadata": {
        "id": "2Vfan0FPzWfw"
      },
      "source": [
        "b) Dentre os jogos que não terminam empatados, qual jogador tem mais chances de ganhar, se ambos utilizam essa estratégia: o jogador que começa ou o segundo jogador? Tente encontrar uma justificativa intuitiva para sua resposta."
      ]
    },
    {
      "cell_type": "markdown",
      "metadata": {
        "id": "91y2XZ2dzeqp"
      },
      "source": [
        "-- sua resolução aqui --"
      ]
    }
  ],
  "metadata": {
    "colab": {
      "provenance": []
    },
    "kernelspec": {
      "display_name": "Python 3",
      "name": "python3"
    },
    "language_info": {
      "name": "python"
    }
  },
  "nbformat": 4,
  "nbformat_minor": 0
}
