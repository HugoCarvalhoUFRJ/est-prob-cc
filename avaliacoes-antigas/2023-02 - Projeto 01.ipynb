{
  "nbformat": 4,
  "nbformat_minor": 0,
  "metadata": {
    "colab": {
      "provenance": []
    },
    "kernelspec": {
      "name": "python3",
      "display_name": "Python 3"
    },
    "language_info": {
      "name": "python"
    }
  },
  "cells": [
    {
      "cell_type": "markdown",
      "metadata": {
        "id": "tKAcyAOyW8W0"
      },
      "source": [
        "# Estatística & Probabilidade - 2023/02\n",
        "\n",
        "## Projeto 01 - Calculando probabilidades com simulação estocástica\n",
        "\n",
        "### Hugo Tremonte de Carvalho\n",
        "\n",
        "#### hugo@dme.ufrj.br\n",
        "\n",
        "#### Google Classroom: `oug6dox`"
      ]
    },
    {
      "cell_type": "markdown",
      "metadata": {
        "id": "LsmMcxGPW8W1"
      },
      "source": [
        "# ⚠️ INSTRUÇÕES ⚠️ LEIAM ATENTAMENTE! ⚠️"
      ]
    },
    {
      "cell_type": "markdown",
      "metadata": {
        "id": "aSV-VmQvW8W2"
      },
      "source": [
        "* A data limite de entrega da avaliação é sábado 01/10/2023 às 23h59. Avaliações entregues após esse prazo serão desconsideradas.\n",
        "\n",
        "* A entrega deve ser feita exclusivamente através do Google Classroom, usando a linguagem Python dentro de um notebook do Google Colaboratory, a ser anexado na atividade da seguinte forma:\n",
        "  - Dentro da turma no Google Classroom, clique em \"Atividades\"\n",
        "            \n",
        "  - No tema \"Projetos\", clique em \"Projeto 02\" e em seguida em \"Ver atividade\"\n",
        "            \n",
        "  - No canto superior direito, clique em \"+ Adicionar ou criar\" e em seguida selecione em \"Arquivo\" ou \"Google Drive\", se optar fazer upload do notebook ou selecionar um arquivo de seu Google Drive, respectivamente.\n",
        "            \n",
        "  - O título do notebook deverá ser, obrigatoriamente, \"SEU NOME - Projeto 01\".\n",
        "            \n",
        "  - Para entregar o projeto, abra a atividade que o contém (conforme procedimento explicado no ponto acima), e no canto superior direito clique em \"ENTREGAR\" (o texto estará em uma caixa cinza, mas ele é clicável).\n",
        "            \n",
        "  - Na tela a seguir clique em \"Entregar\" para confirmar a entrega do trabalho.\n",
        "            \n",
        "  - Se você se arrependeu e quiser fazer outra entrega, basta abrir a atividade, no canto superior direito clique em \"Cancelar envio\" e confirme clicando novamente em \"Cancelar envio\" na janela que irá abrir. Você pode fazer isso quantas vezes quiser até o prazo determinado.\n",
        "            \n",
        "  - As explicações que você precisará fazer devem ser feitas em células de texto em seu notebook. Somente comentários pequenos devem ser feitos no código.\n",
        "            \n",
        "  - Caso seja necessário, equações podem ser introduzidas em $\\LaTeX$ nas células de texto.\n",
        "            \n",
        "  - Figuras também podem ser incluídas em células de texto, tanto através de upload quanto simplesmente arrastando-a para alguma célula de texto. Nesse caso, sempre informe a fonte de onde a figura foi retirada, caso não tenha sido gerada por você.\n",
        "\n",
        "* O projeto poderá ser feito **até** em dupla: quem quer fazer sozinho/a faz, mas quem quiser fazer em dupla também tem esse direito. Porém, vamos evitar problemas de \"eu fiz tudo e ele/a não fez nada\"! Infelizmente não tenho como controlar isso, e após o projeto entregue não adianta \"eu fiz tudo sozinho/a\", pois eu não estava lá para ver! Tentem se resolver entre si, mas em último caso posso auxiliar com uma mediação.\n",
        "\n",
        "* No caso de trabalho em dupla, apenas **uma** pessoa da dupla deverá fazer o envio do trabalho, claro, deixando explícito quem é o/a parceiro/a.\n",
        "\n",
        "* A troca de conhecimento na realização da avaliação é permitida e encorajada: ciência se faz com colaboração, e devemos seguir esse espírito aqui. Porém, cada dupla (ou indivíduo) deverá ter a sua própria resolução, e cópias ou outras ilegalidades serão severamente punidas com a anulação da avaliação para o(s) aluno(s) suspeito(s).\n",
        "\n",
        "* Todos os passos de sua resolução devem ser devidamente justificados.\n",
        "\n",
        "* Ao entregar essa avaliação, você afirma ter lido e estar de acordo com essas regras, comprometendo-se a cumpri-las."
      ]
    },
    {
      "cell_type": "markdown",
      "source": [
        "# O projeto"
      ],
      "metadata": {
        "id": "DLypPchqnhoc"
      }
    },
    {
      "cell_type": "markdown",
      "source": [
        "O objetivo da atividade é que vocês calculem algumas probabilidades através de simulação estocástica, ou seja, através de um grande número de sorteios aleatórios devidamente projetados para calcular a probabilidade desejada. Algumas dessas probabilidades podem ser calculadas analiticamente com certa facilidade, mas em outros pode ser **bem** difícil (ou mesmo impossível). Dessa forma, o cálculo de probabilidades através de simulação estocástica pode ser tanto uma ferramenta fundamental para resolver algum problema ou para te dar alguma intuição, te guiando para o resultado analítico. Em alguns momentos vocês deverão justficar teoricamente os resultados obtidos, pois senão, não tem graça! 😁"
      ],
      "metadata": {
        "id": "FHI5n8V3nw19"
      }
    },
    {
      "cell_type": "markdown",
      "source": [
        "## Questão 1: Calculando $\\pi$ jogando dardos"
      ],
      "metadata": {
        "id": "6jbjorsno16i"
      }
    },
    {
      "cell_type": "markdown",
      "source": [
        "a) Suponha que num jogo de dardos você tem, pendurado em uma parede, o alvo (círculo de raio 1) devidamente emoldurado (inscrito em um quadrado de lado 2 - as unidades não importam aqui). Porém, suas habilidades ao arremessar um dardo em direção ao alvo são péssimas, e você pode atingir qualquer ponto dentro do quadrado uniformemente (note que, forças ocultas e inexplicáveis do Universo fazem com que seja impossível você acertar *fora* da moldura). Através de um cálculo analítico mostre como que a probabilidade de você acertar o alvo se relaciona com o número $\\pi$."
      ],
      "metadata": {
        "id": "nscY444bo5vb"
      }
    },
    {
      "cell_type": "markdown",
      "source": [
        "-- sua resolução aqui --"
      ],
      "metadata": {
        "id": "dg13CC2doyfc"
      }
    },
    {
      "cell_type": "markdown",
      "source": [
        "b) Utilizando geração de números aleatórios, faça uma simulação para estimar o valor de $\\pi$ através do procedimento acima. Ou seja, simule que dardos são arremessados uniformemente no quadrado e utilize a interpretação frequentista da probabilidade para aproximar o valor de $\\pi$. Note que você precisará de \"muitas\" tentativas para ter uma boa estimativa. O quão grande você acha que \"muitas\" deve ser?"
      ],
      "metadata": {
        "id": "UGFvm7FaqMPi"
      }
    },
    {
      "cell_type": "markdown",
      "source": [
        "-- sua resolução aqui --"
      ],
      "metadata": {
        "id": "eTFXKw8aqljB"
      }
    },
    {
      "cell_type": "markdown",
      "source": [
        "## Questão 2: O problema de Monty Hall"
      ],
      "metadata": {
        "id": "LaL7ZvrFqrGd"
      }
    },
    {
      "cell_type": "markdown",
      "source": [
        "Em um famoso programa de televisão da década de 70 nos Estados Unidos, Monty Hall, o apresentador, apresentava três portas aos concorrentes. Atrás de uma delas estava um prêmio e, atrás das outras duas não havia nada. A interação se dava em três etapas:\n",
        "\n",
        "* Na 1a. etapa o concorrente escolhe uma das três portas (que ainda não é aberta);\n",
        "* Na 2a. etapa, Monty abre uma das outras duas portas que o concorrente não escolheu, revelando que o prêmio não se encontra nessa porta e revelando uma porta vazia (note que o apresentador **sempre** irá abrir uma porta que está vazia, e **nunca** a porta com o prêmio);\n",
        "* Na 3a. etapa Monty pergunta ao concorrente se quer decidir permanecer com a porta que escolheu no início do jogo ou se ele pretende mudar para a outra porta que ainda está fechada para então a abrir. Agora, com duas portas apenas para escolher — pois uma delas já se viu, na 2a. etapa, que não tinha o prêmio — e sabendo que o prêmio está atrás de uma das restantes duas, o concorrente tem que tomar a decisão.\n",
        "\n",
        "O objetivo dessa questão é estudar qual é a estratégia mais lógica: ficar com a porta escolhida inicialmente ou mudar de porta? Do ponto de vista probablístico, com qual das duas portas ainda fechadas o concorrente tem mais probabilidades de ganhar?"
      ],
      "metadata": {
        "id": "QOr2y6H6rASi"
      }
    },
    {
      "cell_type": "markdown",
      "source": [
        "a) Primeiramente, pensando do ponto de vista do participante, argumente se é mais razoável que ele tome sua decisão pensando do ponto de vista da interpretação frequentista ou subjetiva do conceito de probabilidade. Claro, justifique sua escolha!\n",
        "\n",
        "Obs.: Esse item é engraçado pois uma vez que o cálculo da probabilidade independe da interpretação escolhida, qualquer resposta é válida, do ponto de vista formal. Porém, a graça aqui é *como* você vai fazer a sua justificativa para a interpretação escolhida!"
      ],
      "metadata": {
        "id": "M2_R56AUv8iz"
      }
    },
    {
      "cell_type": "markdown",
      "source": [
        "-- sua resolução aqui --"
      ],
      "metadata": {
        "id": "6UBqZEFWwM7e"
      }
    },
    {
      "cell_type": "markdown",
      "source": [
        "b) Talvez você já saiba a resposta para esse problema, uma vez que ele é bem famoso, mas não tem problema! Faça simulações para encontrar qual é o melhor cenário para o participante: manter sua escolha inicial ou mudar de porta. Justifique, **intuitivamente** (ou seja, **sem fazer contas**) porque essa escolha é razoável."
      ],
      "metadata": {
        "id": "RY65vLyfwNnN"
      }
    },
    {
      "cell_type": "markdown",
      "source": [
        "-- sua resolução aqui --"
      ],
      "metadata": {
        "id": "ZLMuLgq3wrjJ"
      }
    },
    {
      "cell_type": "markdown",
      "source": [
        "c) Agora sim, justifique fazendo as contas a probabilidade encontrada no item b). Caso você pesquise por aí, você vai encontrar algumas soluções utilizando o Teorema de Bayes. Como nós não vimos ainda tal conteúdo, tente fazer somente com probabilidade condicional. Juro que é possível, e vai ser legal para treinar o conceito recém-aprendido."
      ],
      "metadata": {
        "id": "i9P5y-aBw31c"
      }
    },
    {
      "cell_type": "markdown",
      "source": [
        "-- sua resolução aqui --"
      ],
      "metadata": {
        "id": "3JCfE3SoxEz0"
      }
    },
    {
      "cell_type": "markdown",
      "source": [
        "## Questão 3: Jogo da velha aleatório"
      ],
      "metadata": {
        "id": "O5OXB7gtxKCL"
      }
    },
    {
      "cell_type": "markdown",
      "source": [
        "Agora, vamos tentar estimar uma probabilidade cujo cálculo analítico é bem mais complexo. Suponha que dois jogadores joguem jogo da velha porém com uma estratégia um pouco exótica: cada jogador escolhe a casa onde irá marcar $\\times$ ou $\\circ$ uniformemente dentre as casas vazias. Exemplificando, o primeiro jogador marca $\\times$ em uma das 9 casas com igual probabilidade; o segundo marca $\\circ$ em uma das 8 casas restantes com igual probabilidade; e assim sucessivamente até algum jogador ganhar (linha, coluna ou diagonal completa com $\\times$ ou $\\circ$) ou empatar (todas as células preenchidas porém sem nenhuma linha nem coluna nem diagonal completa com $\\times$ ou $\\circ$)."
      ],
      "metadata": {
        "id": "IvZ5zfcTxVYx"
      }
    },
    {
      "cell_type": "markdown",
      "source": [
        "a) Encontre uma aproximação para a probabilidade do jogo **não** terminar em empate. Tente encontrar uma justificativa intuitiva para sua resposta."
      ],
      "metadata": {
        "id": "psZKODw_zLMj"
      }
    },
    {
      "cell_type": "markdown",
      "source": [
        "-- sua resolução aqui --"
      ],
      "metadata": {
        "id": "VQSdGXm5zWH7"
      }
    },
    {
      "cell_type": "markdown",
      "source": [
        "b) Dentre os jogos que não terminam empatados, qual jogador tem mais chances de ganhar, se ambos utilizam essa estratégia: o jogador que começa ou o segundo jogador? Tente encontrar uma justificativa intuitiva para sua resposta."
      ],
      "metadata": {
        "id": "2Vfan0FPzWfw"
      }
    },
    {
      "cell_type": "markdown",
      "source": [
        "-- sua resolução aqui --"
      ],
      "metadata": {
        "id": "91y2XZ2dzeqp"
      }
    },
    {
      "cell_type": "markdown",
      "source": [
        "c) Responda às mesmas perguntas dos itens a) e b), porém para um *jogo da velha tridimensional*: ou seja, em vez do jogo acontecer em uma grade bidimensional de tamanho $3 \\times 3$, agora ele acontece em uma grade tridimensional de tamanho $3 \\times 3 \\times 3$! 🤯 Tome cuidado pois agora há diversas formas de um jogador ganhar uma partida! Além de ser através do completamento de alguma linha, coluna ou diagonal de qualquer \"sub-tabuleiro\" plano do cubo $3 \\times 3 \\times 3$ (existem 9 desses tabuleiros), o jogador poderá ainda completar as diagonais do cubo que unem vértices opostos (4 no total)."
      ],
      "metadata": {
        "id": "ydxZsnFe0by_"
      }
    },
    {
      "cell_type": "markdown",
      "source": [
        "-- sua resolução aqui --"
      ],
      "metadata": {
        "id": "iUJS3YwD4wrA"
      }
    }
  ]
}